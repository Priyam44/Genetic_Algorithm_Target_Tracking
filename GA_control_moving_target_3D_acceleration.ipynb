{
  "nbformat": 4,
  "nbformat_minor": 0,
  "metadata": {
    "colab": {
      "name": "GA_control_moving_target_3D_acceleration.ipynb",
      "provenance": [],
      "collapsed_sections": []
    },
    "kernelspec": {
      "name": "python3",
      "display_name": "Python 3"
    },
    "accelerator": "GPU"
  },
  "cells": [
    {
      "cell_type": "code",
      "metadata": {
        "id": "llZMG-nMoFi-",
        "colab": {
          "base_uri": "https://localhost:8080/",
          "height": 34
        },
        "outputId": "ece13999-fe6f-4f6f-b265-7c64a1591269"
      },
      "source": [
        "from google.colab import drive\n",
        "drive.mount('/content/drive')"
      ],
      "execution_count": null,
      "outputs": [
        {
          "output_type": "stream",
          "text": [
            "Mounted at /content/drive\n"
          ],
          "name": "stdout"
        }
      ]
    },
    {
      "cell_type": "code",
      "metadata": {
        "id": "rOPsOAkGs5br",
        "colab": {
          "base_uri": "https://localhost:8080/"
        },
        "outputId": "ab8d6eae-5083-4e16-ee86-728599f5fbe1"
      },
      "source": [
        "reset"
      ],
      "execution_count": null,
      "outputs": [
        {
          "output_type": "stream",
          "text": [
            "Once deleted, variables cannot be recovered. Proceed (y/[n])? y\n"
          ],
          "name": "stdout"
        }
      ]
    },
    {
      "cell_type": "code",
      "metadata": {
        "id": "VLyo2JAAb5f5"
      },
      "source": [
        "import random,copy,math\n",
        "import numpy as np\n",
        "# from deap import benchmarks\n",
        "import matplotlib.pyplot as plt\n",
        "# import plotter\n",
        "import time\n",
        "pi = round(math.pi,6)\n",
        "sin,cos,tan = math.sin,math.cos,math.tan\n",
        "\n",
        "\n",
        "\n",
        "delta_t = 0.2\n",
        "car_vel = 10\n",
        "car_omega = 0\n",
        "target_pos = np.array([10,10,0])\n",
        "\n",
        "MAX_POPULATION_SIZE=20 #maximum number of plants in a colony(or population)\n",
        "sigma_fin=0.01#final standard deviation\n",
        "sigma_ini=35 #initial standard deviation\n",
        "Smin=2#min seeds produced\n",
        "Smax=10#max seeds produced\n",
        "n_mi= 3 #modulation index\n",
        "iter_max=1500 #Maximum number of iterations to be done\n",
        "CHROMOSOME_SIZE=4 #F,\n",
        "\n",
        "#Input Limits\n",
        "v_x_min,v_x_max = -15,15\n",
        "v_y_min,v_y_max = -15,15\n",
        "v_z_min,v_z_max = -11,11\n",
        "omega_x_min,omega_x_max = -(pi/5),pi/5\n",
        "omega_y_min,omega_y_max = -(pi/5),pi/5\n",
        "omega_z_min,omega_z_max = -(pi/5),pi/5\n",
        "\n",
        "#class that generates chromosomes\n",
        "class Chromosome:\n",
        "    def __init__(self,state,tar_curr_state,mode =\" \"):\n",
        "        self._genes=np.zeros((CHROMOSOME_SIZE+1),dtype=float)\n",
        "        self._state = state #current state of the chaser\n",
        "        self._tar_curr_state = tar_curr_state #current state of the target\n",
        "        self.new_tar_state = 0\n",
        "\n",
        "        #initializing the control parameters\n",
        "        if mode==\"initialise\":  \n",
        "            \n",
        "            self._genes[0]= v_x_min+(v_x_max-v_x_min)*random.random()\n",
        "            self._genes[1]= v_y_min+(v_y_max-v_y_min)*random.random()\n",
        "            self._genes[2]= v_z_min+(v_z_max-v_z_min)*random.random()\n",
        "            self._genes[3]= omega_x_min+(omega_x_max-omega_x_min)*random.random()\n",
        "            self._genes[4]= omega_y_min+(omega_y_max-omega_y_min)*random.random()\n",
        "            self._genes[5]= omega_z_min+(omega_z_max-omega_z_min)*random.random()\n",
        "\n",
        "        self._cost = self.get_cost() #calculating cost\n",
        "        self._genes[-1] = self._cost #adding cost to the genes\n",
        "\n",
        "        # self._genes=np.around(self._genes,6)\n",
        "        #print(\"TARGET_CHROMOSOME\",TARGET_CHROMOSOME,'\\n')\n",
        "\n",
        "    def get_genes(self):\n",
        "        return self._genes\n",
        "\n",
        "    def get_cost(self):\n",
        "        # v_x,v_y,v_z,omega_x,omega_y,omega_z = self._genes[:-1]\n",
        "        vel = self._genes[:3]\n",
        "        omega = self._genes[3:-1]\n",
        "\n",
        "        pos = self._state[0]\n",
        "        angle = self._state[1]\n",
        "        phi,theta,psi = angle\n",
        "\n",
        "        \n",
        "        \n",
        "        \n",
        "        \n",
        "        pos = pos + np.matmul(rotmat_velocity,vel)*delta_t\n",
        "        angle = angle + omega*delta_t\n",
        "     \n",
        "\n",
        "        curr_pos = np.array([pos,angle])\n",
        "\n",
        "        #getting target position\n",
        "        self.new_target_state = self.cal_target_state() #updating new target state\n",
        "        self._state = curr_pos #updating new chaser state\n",
        "        cost = np.sum((self.new_target_state[:3]-curr_pos[0][:3])**2) #+ abs(curr_pos[0][2]-50))/51 #- curr_pos[0][2]*1000 #calculating cost\n",
        "\n",
        "        return cost\n",
        "\n",
        "    def get_state(self):\n",
        "        return self._state\n",
        "\n",
        "    def cal_target_state(self):\n",
        "        theta = self._tar_curr_state[-1] + (car_omega*delta_t)\n",
        "        x = self._tar_curr_state[0] + car_vel * math.cos(theta) * delta_t\n",
        "        y = self._tar_curr_state[1] + car_vel * math.sin(theta) * delta_t\n",
        "        return np.array([x,y,0,theta])\n",
        "\n",
        "    def get_target_state(self):\n",
        "      return self.new_target_state\n",
        "    \n",
        "    def __str__(self):\n",
        "        return self._genes.__str__()\n",
        "\n",
        "#class that create one set of generations\n",
        "class Population:\n",
        "    def __init__(self,size,curr_state,tar_curr_state,mode=\" \"):\n",
        "        self._chromosomes=[]\n",
        "        i=0\n",
        "        while i<size:\n",
        "            self.add_chromosomes(Chromosome(curr_state,tar_curr_state,mode))\n",
        "            i+=1\n",
        "    def add_chromosomes(self,chromosome):\n",
        "        self._chromosomes.append(chromosome)\n",
        "    def get_chromosomes(self):\n",
        "        return self._chromosomes\n",
        "\n",
        "#class that helps in evolving and mutating the genes of the chromosomes\n",
        "class GeneticAlgorithm:\n",
        "\n",
        "    @staticmethod\n",
        "    def reproduce(pop,iter,curr_state,tar_curr_state):\n",
        "        new_pop=copy.deepcopy(pop)\n",
        "        worst_cost=pop.get_chromosomes()[MAX_POPULATION_SIZE-1].get_genes()[CHROMOSOME_SIZE]\n",
        "        best_cost=pop.get_chromosomes()[0].get_genes()[CHROMOSOME_SIZE]\n",
        "        sigma_iter=GeneticAlgorithm.std_deviation(iter,iter_max)\n",
        "        if(best_cost!=worst_cost):\n",
        "            #print(\"before sorting\")\n",
        "            for i in range(MAX_POPULATION_SIZE):\n",
        "                ratio=(pop.get_chromosomes()[i].get_genes()[CHROMOSOME_SIZE]-worst_cost)/(best_cost-worst_cost)\n",
        "                S=Smin+(Smax-Smin)*ratio #number of seeds chromosome can produce on the basis of rank\n",
        "                for j in range(int(S)):\n",
        "                    seed=Chromosome(curr_state,tar_curr_state)\n",
        "                    for k in range(CHROMOSOME_SIZE):\n",
        "                        seed._genes[k]=np.random.normal(pop._chromosomes[i].get_genes()[k],sigma_iter)\n",
        "                    # seed._genes[-1]=seed.get_cost()\n",
        "                    # seed._genes=np.around(seed._genes,3)\n",
        "                    new_pop.add_chromosomes(seed)\n",
        "            GeneticAlgorithm.sort(new_pop)\n",
        "            pop._chromosomes=new_pop._chromosomes[:MAX_POPULATION_SIZE]\n",
        "            # for i in range(MAX_POPULATION_SIZE):\n",
        "            #     pop._chromosomes[i]=new_pop._chromosomes[i]\n",
        "        else:\n",
        "            # print(\"best and worst cost equal\")\n",
        "            return pop, False\n",
        "        # print(\"REPRODUCED\")\n",
        "        return pop, True\n",
        "    @staticmethod\n",
        "    def std_deviation(iter,iter_max):\n",
        "        sigma_iter=(((iter_max-iter)**n_mi)/iter_max**n_mi)*(sigma_ini-sigma_fin)+sigma_fin\n",
        "        # print (\"sigma\",sigma_iter,'\\n')\n",
        "        return sigma_iter\n",
        "    @staticmethod\n",
        "    def sort(pop):\n",
        "        pop_chroms_2d_array=np.array([pop.get_chromosomes()[i].get_genes() for i in range(len(pop._chromosomes))])\n",
        "        sindices=np.argsort(pop_chroms_2d_array[:,CHROMOSOME_SIZE],axis=0)\n",
        "        # sindices = np.flip(sindices)  #To maximize\n",
        "        sorted_chroms=pop.get_chromosomes()\n",
        "        for i in range(0,len(pop._chromosomes)):\n",
        "            sorted_chroms[i]._genes=pop_chroms_2d_array[sindices[i]]\n",
        "            sorted_chroms[i]._state = pop._chromosomes[sindices[i]]._state\n",
        "        #for i in range(0,len(pop._chromosomes)):\n",
        "        pop._chromosomes=sorted_chroms\n",
        "        # print(\"SORTED\")\n",
        "#------------------------------------------------------------------------------------------------------------------------------------#-\n",
        "def _print_population(pop,gen_number,fitness):\n",
        "    print(\"\\n---------------------------------------------------------\")\n",
        "    print(\"Generation#\",gen_number,\"|Fittest chromosome fitness:\",pop.get_chromosomes()[0].get_genes()[CHROMOSOME_SIZE])\n",
        "    #print(\"Target Chromosome:\",TARGET_CHROMOSOME)\n",
        "    print(\"-----------------------------------------------------------\")\n",
        "    fitness.append(pop.get_chromosomes()[0].get_genes()[CHROMOSOME_SIZE])\n",
        "    i=0\n",
        "    for x in pop.get_chromosomes():\n",
        "        print(\"Chromosome #\",i+1,\":\",x.get_genes(),\"|State: \",x.get_state(),\"|Fitness:\",x.get_genes()[CHROMOSOME_SIZE])\n",
        "        k=x.get_genes()[CHROMOSOME_SIZE]\n",
        "        # handle.write(str(gen_number)+' '+str(x.get_genes()[-1])+'\\n')\n",
        "        #fitness=np.append(fitness,[x.get_genes()[CHROMOSOME_SIZE]],1)\n",
        "        #dplot.update(gen_number,pop.get_chromosomes()[0].get_genes()[CHROMOSOME_SIZE])\n",
        "        i+=1\n",
        "\n",
        "\n",
        "def optimizer(curr_state,tar_curr_state):\n",
        "  # print(\"INITIATING PROGRAMME\")\n",
        "  population=Population(MAX_POPULATION_SIZE,curr_state,tar_curr_state,\"initialise\")#initialising population\n",
        "  GeneticAlgorithm.sort(population)\n",
        "  fitness = []\n",
        "  iter=1\n",
        "  \n",
        "  while iter<iter_max:\n",
        "\n",
        "      population,check=GeneticAlgorithm.reproduce(population,iter,curr_state,tar_curr_state)\n",
        "\n",
        "      if(check==False):\n",
        "          #iter+=1\n",
        "          break;\n",
        "      # minfit.append(population.get_chromosomes()[-1].get_genes()[-1])\n",
        "      # _print_population(population,iter,fitness)\n",
        "      iter+=1\n",
        "  # print(population.get_chromosomes()[0].get_state())\n",
        "  new_chaser_state,new_target_state = population.get_chromosomes()[0].get_state(),population.get_chromosomes()[0].get_target_state()\n",
        "  return(new_chaser_state,new_target_state)\n",
        "\n"
      ],
      "execution_count": null,
      "outputs": []
    },
    {
      "cell_type": "code",
      "metadata": {
        "id": "MOYlY5NscGVN",
        "colab": {
          "base_uri": "https://localhost:8080/",
          "height": 370
        },
        "outputId": "62828b76-5585-4e58-ef11-9c5e05e609c7"
      },
      "source": [
        "import matplotlib.pyplot as plt\n",
        "from mpl_toolkits import mplot3d\n",
        "from mpl_toolkits.mplot3d import axes3d\n",
        "%matplotlib inline\n",
        "\n",
        "\n",
        "initial_state = np.array([[0,0,50],[0,0,0]])\n",
        "target_initial_state = np.array([10,10,0,pi/2])\n",
        "\n",
        "curr_state,target_curr_state = optimizer(initial_state,target_initial_state)\n",
        "\n",
        "num_steps = 100\n",
        "j=0\n",
        "chaser_states = [initial_state]\n",
        "target_states = [target_initial_state]\n",
        "while j <= num_steps:\n",
        "  \n",
        "  curr_state,target_curr_state = optimizer(curr_state,target_curr_state)\n",
        "  print(\"\\nstep: \",j,\"chaser state: \", curr_state, \"target state: \",target_curr_state)\n",
        "  chaser_states.append(curr_state.tolist())\n",
        "  target_states.append(target_curr_state.tolist())\n",
        "\n",
        "  #plotting\n",
        "  chaser_states_l = np.array(chaser_states)\n",
        "  target_states_l = np.array(target_states)\n",
        "\n",
        "  # plt.close()\n",
        "  fig = plt.figure()\n",
        "  ax = fig.gca(projection=\"3d\")\n",
        "  ax.plot(target_states_l.T[0], target_states_l.T[1], target_states_l.T[2],label = \"Target\");\n",
        "  ax.plot(chaser_states_l[:,0].T[0], chaser_states_l[:,0].T[1], chaser_states_l[:,0].T[2],label = \"Chaser\");\n",
        "  # ax.plot(curr_state[0][0],curr_state[0][1],curr_state[0][2])\n",
        "  # ax.plot(target_curr_state[0],target_curr_state[1],target_curr_state[2])\n",
        "  # plt.legend()\n",
        "  ax.legend()\n",
        "  plt.show()\n",
        "\n",
        "  j+=1\n",
        "\n",
        "chaser_states = np.array(chaser_states)\n",
        "target_states = np.array(target_states)\n",
        "# print(states)\n",
        "\n",
        "\n",
        "\n",
        "\n",
        "\n"
      ],
      "execution_count": null,
      "outputs": [
        {
          "output_type": "error",
          "ename": "IndexError",
          "evalue": "ignored",
          "traceback": [
            "\u001b[0;31m---------------------------------------------------------------------------\u001b[0m",
            "\u001b[0;31mIndexError\u001b[0m                                Traceback (most recent call last)",
            "\u001b[0;32m<ipython-input-2-d5f05f5b0331>\u001b[0m in \u001b[0;36m<module>\u001b[0;34m()\u001b[0m\n\u001b[1;32m      8\u001b[0m \u001b[0mtarget_initial_state\u001b[0m \u001b[0;34m=\u001b[0m \u001b[0mnp\u001b[0m\u001b[0;34m.\u001b[0m\u001b[0marray\u001b[0m\u001b[0;34m(\u001b[0m\u001b[0;34m[\u001b[0m\u001b[0;36m10\u001b[0m\u001b[0;34m,\u001b[0m\u001b[0;36m10\u001b[0m\u001b[0;34m,\u001b[0m\u001b[0;36m0\u001b[0m\u001b[0;34m,\u001b[0m\u001b[0mpi\u001b[0m\u001b[0;34m/\u001b[0m\u001b[0;36m2\u001b[0m\u001b[0;34m]\u001b[0m\u001b[0;34m)\u001b[0m\u001b[0;34m\u001b[0m\u001b[0;34m\u001b[0m\u001b[0m\n\u001b[1;32m      9\u001b[0m \u001b[0;34m\u001b[0m\u001b[0m\n\u001b[0;32m---> 10\u001b[0;31m \u001b[0mcurr_state\u001b[0m\u001b[0;34m,\u001b[0m\u001b[0mtarget_curr_state\u001b[0m \u001b[0;34m=\u001b[0m \u001b[0moptimizer\u001b[0m\u001b[0;34m(\u001b[0m\u001b[0minitial_state\u001b[0m\u001b[0;34m,\u001b[0m\u001b[0mtarget_initial_state\u001b[0m\u001b[0;34m)\u001b[0m\u001b[0;34m\u001b[0m\u001b[0;34m\u001b[0m\u001b[0m\n\u001b[0m\u001b[1;32m     11\u001b[0m \u001b[0;34m\u001b[0m\u001b[0m\n\u001b[1;32m     12\u001b[0m \u001b[0mnum_steps\u001b[0m \u001b[0;34m=\u001b[0m \u001b[0;36m100\u001b[0m\u001b[0;34m\u001b[0m\u001b[0;34m\u001b[0m\u001b[0m\n",
            "\u001b[0;32m<ipython-input-1-0f0c5d2fc30c>\u001b[0m in \u001b[0;36moptimizer\u001b[0;34m(curr_state, tar_curr_state)\u001b[0m\n\u001b[1;32m    179\u001b[0m \u001b[0;32mdef\u001b[0m \u001b[0moptimizer\u001b[0m\u001b[0;34m(\u001b[0m\u001b[0mcurr_state\u001b[0m\u001b[0;34m,\u001b[0m\u001b[0mtar_curr_state\u001b[0m\u001b[0;34m)\u001b[0m\u001b[0;34m:\u001b[0m\u001b[0;34m\u001b[0m\u001b[0;34m\u001b[0m\u001b[0m\n\u001b[1;32m    180\u001b[0m   \u001b[0;31m# print(\"INITIATING PROGRAMME\")\u001b[0m\u001b[0;34m\u001b[0m\u001b[0;34m\u001b[0m\u001b[0;34m\u001b[0m\u001b[0m\n\u001b[0;32m--> 181\u001b[0;31m   \u001b[0mpopulation\u001b[0m\u001b[0;34m=\u001b[0m\u001b[0mPopulation\u001b[0m\u001b[0;34m(\u001b[0m\u001b[0mMAX_POPULATION_SIZE\u001b[0m\u001b[0;34m,\u001b[0m\u001b[0mcurr_state\u001b[0m\u001b[0;34m,\u001b[0m\u001b[0mtar_curr_state\u001b[0m\u001b[0;34m,\u001b[0m\u001b[0;34m\"initialise\"\u001b[0m\u001b[0;34m)\u001b[0m\u001b[0;31m#initialising population\u001b[0m\u001b[0;34m\u001b[0m\u001b[0;34m\u001b[0m\u001b[0m\n\u001b[0m\u001b[1;32m    182\u001b[0m   \u001b[0mGeneticAlgorithm\u001b[0m\u001b[0;34m.\u001b[0m\u001b[0msort\u001b[0m\u001b[0;34m(\u001b[0m\u001b[0mpopulation\u001b[0m\u001b[0;34m)\u001b[0m\u001b[0;34m\u001b[0m\u001b[0;34m\u001b[0m\u001b[0m\n\u001b[1;32m    183\u001b[0m   \u001b[0mfitness\u001b[0m \u001b[0;34m=\u001b[0m \u001b[0;34m[\u001b[0m\u001b[0;34m]\u001b[0m\u001b[0;34m\u001b[0m\u001b[0;34m\u001b[0m\u001b[0m\n",
            "\u001b[0;32m<ipython-input-1-0f0c5d2fc30c>\u001b[0m in \u001b[0;36m__init__\u001b[0;34m(self, size, curr_state, tar_curr_state, mode)\u001b[0m\n\u001b[1;32m    106\u001b[0m         \u001b[0mi\u001b[0m\u001b[0;34m=\u001b[0m\u001b[0;36m0\u001b[0m\u001b[0;34m\u001b[0m\u001b[0;34m\u001b[0m\u001b[0m\n\u001b[1;32m    107\u001b[0m         \u001b[0;32mwhile\u001b[0m \u001b[0mi\u001b[0m\u001b[0;34m<\u001b[0m\u001b[0msize\u001b[0m\u001b[0;34m:\u001b[0m\u001b[0;34m\u001b[0m\u001b[0;34m\u001b[0m\u001b[0m\n\u001b[0;32m--> 108\u001b[0;31m             \u001b[0mself\u001b[0m\u001b[0;34m.\u001b[0m\u001b[0madd_chromosomes\u001b[0m\u001b[0;34m(\u001b[0m\u001b[0mChromosome\u001b[0m\u001b[0;34m(\u001b[0m\u001b[0mcurr_state\u001b[0m\u001b[0;34m,\u001b[0m\u001b[0mtar_curr_state\u001b[0m\u001b[0;34m,\u001b[0m\u001b[0mmode\u001b[0m\u001b[0;34m)\u001b[0m\u001b[0;34m)\u001b[0m\u001b[0;34m\u001b[0m\u001b[0;34m\u001b[0m\u001b[0m\n\u001b[0m\u001b[1;32m    109\u001b[0m             \u001b[0mi\u001b[0m\u001b[0;34m+=\u001b[0m\u001b[0;36m1\u001b[0m\u001b[0;34m\u001b[0m\u001b[0;34m\u001b[0m\u001b[0m\n\u001b[1;32m    110\u001b[0m     \u001b[0;32mdef\u001b[0m \u001b[0madd_chromosomes\u001b[0m\u001b[0;34m(\u001b[0m\u001b[0mself\u001b[0m\u001b[0;34m,\u001b[0m\u001b[0mchromosome\u001b[0m\u001b[0;34m)\u001b[0m\u001b[0;34m:\u001b[0m\u001b[0;34m\u001b[0m\u001b[0;34m\u001b[0m\u001b[0m\n",
            "\u001b[0;32m<ipython-input-1-0f0c5d2fc30c>\u001b[0m in \u001b[0;36m__init__\u001b[0;34m(self, state, tar_curr_state, mode)\u001b[0m\n\u001b[1;32m     48\u001b[0m             \u001b[0mself\u001b[0m\u001b[0;34m.\u001b[0m\u001b[0m_genes\u001b[0m\u001b[0;34m[\u001b[0m\u001b[0;36m3\u001b[0m\u001b[0;34m]\u001b[0m\u001b[0;34m=\u001b[0m \u001b[0momega_x_min\u001b[0m\u001b[0;34m+\u001b[0m\u001b[0;34m(\u001b[0m\u001b[0momega_x_max\u001b[0m\u001b[0;34m-\u001b[0m\u001b[0momega_x_min\u001b[0m\u001b[0;34m)\u001b[0m\u001b[0;34m*\u001b[0m\u001b[0mrandom\u001b[0m\u001b[0;34m.\u001b[0m\u001b[0mrandom\u001b[0m\u001b[0;34m(\u001b[0m\u001b[0;34m)\u001b[0m\u001b[0;34m\u001b[0m\u001b[0;34m\u001b[0m\u001b[0m\n\u001b[1;32m     49\u001b[0m             \u001b[0mself\u001b[0m\u001b[0;34m.\u001b[0m\u001b[0m_genes\u001b[0m\u001b[0;34m[\u001b[0m\u001b[0;36m4\u001b[0m\u001b[0;34m]\u001b[0m\u001b[0;34m=\u001b[0m \u001b[0momega_y_min\u001b[0m\u001b[0;34m+\u001b[0m\u001b[0;34m(\u001b[0m\u001b[0momega_y_max\u001b[0m\u001b[0;34m-\u001b[0m\u001b[0momega_y_min\u001b[0m\u001b[0;34m)\u001b[0m\u001b[0;34m*\u001b[0m\u001b[0mrandom\u001b[0m\u001b[0;34m.\u001b[0m\u001b[0mrandom\u001b[0m\u001b[0;34m(\u001b[0m\u001b[0;34m)\u001b[0m\u001b[0;34m\u001b[0m\u001b[0;34m\u001b[0m\u001b[0m\n\u001b[0;32m---> 50\u001b[0;31m             \u001b[0mself\u001b[0m\u001b[0;34m.\u001b[0m\u001b[0m_genes\u001b[0m\u001b[0;34m[\u001b[0m\u001b[0;36m5\u001b[0m\u001b[0;34m]\u001b[0m\u001b[0;34m=\u001b[0m \u001b[0momega_z_min\u001b[0m\u001b[0;34m+\u001b[0m\u001b[0;34m(\u001b[0m\u001b[0momega_z_max\u001b[0m\u001b[0;34m-\u001b[0m\u001b[0momega_z_min\u001b[0m\u001b[0;34m)\u001b[0m\u001b[0;34m*\u001b[0m\u001b[0mrandom\u001b[0m\u001b[0;34m.\u001b[0m\u001b[0mrandom\u001b[0m\u001b[0;34m(\u001b[0m\u001b[0;34m)\u001b[0m\u001b[0;34m\u001b[0m\u001b[0;34m\u001b[0m\u001b[0m\n\u001b[0m\u001b[1;32m     51\u001b[0m \u001b[0;34m\u001b[0m\u001b[0m\n\u001b[1;32m     52\u001b[0m         \u001b[0mself\u001b[0m\u001b[0;34m.\u001b[0m\u001b[0m_cost\u001b[0m \u001b[0;34m=\u001b[0m \u001b[0mself\u001b[0m\u001b[0;34m.\u001b[0m\u001b[0mget_cost\u001b[0m\u001b[0;34m(\u001b[0m\u001b[0;34m)\u001b[0m \u001b[0;31m#calculating cost\u001b[0m\u001b[0;34m\u001b[0m\u001b[0;34m\u001b[0m\u001b[0m\n",
            "\u001b[0;31mIndexError\u001b[0m: index 5 is out of bounds for axis 0 with size 5"
          ]
        }
      ]
    },
    {
      "cell_type": "code",
      "metadata": {
        "id": "8xZjL29zeHzK",
        "colab": {
          "base_uri": "https://localhost:8080/",
          "height": 318
        },
        "outputId": "0dbd0016-89ef-4976-93e1-76bdaccbddd7"
      },
      "source": [
        "plt.plot(target_states_l.T[0],target_states_l.T[1],label = \"target\")\n",
        "plt.plot(chaser_states_l[:,0].T[0],chaser_states_l[:,0].T[1],label = \"chaser\")\n",
        "plt.plot(chaser_states_l[:,0].T[0][-1],chaser_states_l[:,0].T[1][-1],\"x\")\n",
        "plt.plot(target_states_l.T[0][-1],target_states_l.T[1][-1],\"x\")\n",
        "plt.axes().set_aspect(\"equal\")\n",
        "plt.legend()\n",
        "plt.show()\n",
        "# plt.savefig('/content/drive/My Drive/MTE_Project/chaser4.jpg')"
      ],
      "execution_count": null,
      "outputs": [
        {
          "output_type": "stream",
          "text": [
            "/usr/local/lib/python3.6/dist-packages/ipykernel_launcher.py:5: MatplotlibDeprecationWarning: Adding an axes using the same arguments as a previous axes currently reuses the earlier instance.  In a future version, a new instance will always be created and returned.  Meanwhile, this warning can be suppressed, and the future behavior ensured, by passing a unique label to each axes instance.\n",
            "  \"\"\"\n"
          ],
          "name": "stderr"
        },
        {
          "output_type": "display_data",
          "data": {
            "image/png": "[encoded data removed]",
            "text/plain": [
              "<Figure size 432x288 with 1 Axes>"
            ]
          },
          "metadata": {
            "tags": [],
            "needs_background": "light"
          }
        }
      ]
    },
    {
      "cell_type": "code",
      "metadata": {
        "id": "ZhWntLbjt3RS",
        "colab": {
          "base_uri": "https://localhost:8080/"
        },
        "outputId": "84d47447-0a93-4061-a621-22c5f5f5239f"
      },
      "source": [
        "vel = np.array([10,12,10])\n",
        "omega = np.array([pi/10,pi/10,pi/10])\n",
        "\n",
        "pos = np.array([0,0,0])\n",
        "angle = np.array([0,0,0])\n",
        "phi,theta,psi = angle\n",
        "\n",
        "rotmat_omega = np.array([[1,sin(phi)*tan(theta),cos(phi)*tan(theta)],\\\n",
        "                          [0,cos(phi),-sin(phi)],\\\n",
        "                          [0,sin(phi)/cos(theta),cos(phi)/cos(theta)]])\n",
        "\n",
        "rotmat_velocity = np.array([[cos(theta)*cos(psi),sin(phi)*sin(theta)*cos(psi)-cos(phi)*sin(psi),cos(phi)*sin(theta)*cos(psi)+sin(phi)*sin(psi)],\\\n",
        "                            [cos(theta)*sin(psi),sin(phi)*sin(theta)*sin(psi)+cos(phi)*cos(psi),cos(phi)*sin(theta)*sin(psi)-sin(phi)*cos(psi)],\\\n",
        "                            [sin(theta),-sin(phi)*cos(theta),-cos(phi)*cos(theta)]])\n",
        "\n",
        "pos = pos + np.matmul(rotmat_velocity,vel)*delta_t\n",
        "# print(\"pos\",pos) #testcode\n",
        "# print(\"mat\",np.matmul(rotmat_velocity,vel)*delta_t) #testcode\n",
        "# print(\"rotmat\",rotmat_velocity)\n",
        "angle = angle + np.matmul(rotmat_omega,omega)*delta_t\n",
        "print(\"angle\",angle)\n",
        "print(\"rotmat_om\",rotmat_omega)\n",
        "\n",
        "curr_pos = np.array([pos,angle])\n",
        "print(\"curr_pos\",curr_pos)\n",
        "\n",
        "# #getting target position\n",
        "# self.new_target_state = self.cal_target_state() #updating new target state\n",
        "# self._state = curr_pos #updating new chaser state\n",
        "# cost = np.sqrt(np.sum((self.new_target_state[:-1]-curr_pos[0])**2)) #calculating cost"
      ],
      "execution_count": null,
      "outputs": [
        {
          "output_type": "stream",
          "text": [
            "angle [0.06283186 0.06283186 0.06283186]\n",
            "rotmat_om [[ 1.  0.  0.]\n",
            " [ 0.  1. -0.]\n",
            " [ 0.  0.  1.]]\n",
            "curr_pos [[ 2.          2.4        -2.        ]\n",
            " [ 0.06283186  0.06283186  0.06283186]]\n"
          ],
          "name": "stdout"
        }
      ]
    },
    {
      "cell_type": "code",
      "metadata": {
        "id": "6R952ocfsZxA"
      },
      "source": [
        ""
      ],
      "execution_count": null,
      "outputs": []
    }
  ]
}